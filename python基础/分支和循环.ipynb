{
 "cells": [
  {
   "cell_type": "code",
   "execution_count": 8,
   "metadata": {},
   "outputs": [
    {
     "name": "stdout",
     "output_type": "stream",
     "text": [
      "你输入的性别是：dfdfdf\n",
      "发糖喽发糖喽\n",
      "你是女生，特殊照顾喽\n",
      "开始上课喽\n"
     ]
    }
   ],
   "source": [
    "# input的作用是\n",
    "# 1. 在屏幕上输出括号内的字符串\n",
    "# 2. 接受用户输入的内容并返回到程序\n",
    "# 3. input返回的内容一定是字符串类型\n",
    "gender = input(\"请输入性别：\")\n",
    "print(\"你输入的性别是：%s\" % gender)\n",
    "\n",
    "if  gender == \"nan\":\n",
    "    print(\"来，我们纪念一下今天吧，代码敲十遍\")\n",
    "else:\n",
    "    print(\"发糖喽发糖喽\")\n",
    "    print(\"你是女生，特殊照顾喽\")\n",
    "        \n",
    "print(\"开始上课喽\")"
   ]
  },
  {
   "cell_type": "code",
   "execution_count": 22,
   "metadata": {},
   "outputs": [
    {
     "name": "stdout",
     "output_type": "stream",
     "text": [
      "不及格\n"
     ]
    }
   ],
   "source": [
    "score = input('请输入您的成绩：')\n",
    "score = int(score)\n",
    "if score >= 90:\n",
    "    print('优秀')\n",
    "elif score >=80 :\n",
    "    print('良好')\n",
    "elif score >=60:\n",
    "    print('及格')\n",
    "else:\n",
    "    print('不及格')\n"
   ]
  },
  {
   "cell_type": "code",
   "execution_count": 2,
   "metadata": {},
   "outputs": [
    {
     "name": "stdout",
     "output_type": "stream",
     "text": [
      "zhangsan\n",
      "同学我们不约，不约，同学请自重\n",
      "lisi\n",
      "同学我们不约，不约，同学请自重\n",
      "wangwu\n",
      "同学我们不约，不约，同学请自重\n",
      "jingjing\n",
      "我的最爱jingjing出现了\n",
      "结束咯\n"
     ]
    }
   ],
   "source": [
    "# 打印学生列表姓名\n",
    "# 如果是jingjign，那肯定是我的最爱呀，\n",
    "# 如果是别的学生，那要冷酷的拒绝他\n",
    "for name in  ['zhangsan', 'lisi', 'wangwu','jingjing']:\n",
    "    print(name)\n",
    "    if name == \"jingjing\":\n",
    "        print(\"我的最爱{0}出现了\".format(name))\n",
    "    else:\n",
    "        print(\"同学我们不约，不约，同学请自重\")\n",
    "else:\n",
    "    print('结束咯')"
   ]
  },
  {
   "cell_type": "code",
   "execution_count": 3,
   "metadata": {},
   "outputs": [
    {
     "name": "stdout",
     "output_type": "stream",
     "text": [
      "1\n",
      "2\n",
      "3\n",
      "4\n",
      "5\n",
      "6\n",
      "找到数值7\n",
      "8\n",
      "9\n",
      "10\n",
      "游戏结束\n",
      "游戏结束\n",
      "游戏结束\n",
      "游戏结束\n"
     ]
    }
   ],
   "source": [
    "# 在数字1-10中，寻找数字7，一旦找到，打印出来，其余则什么都不做\n",
    "# for 循环中的变量表示，一般用i，k，m，n，或者indx，idx，item之类\n",
    "# 在python中，如果循环变量名称不重要，可以用下划线（_)代替\n",
    "\n",
    "for _ in range(1,11):\n",
    "    if _ !=7:\n",
    "        print(_)\n",
    "    else:\n",
    "        print('找到数值7')\n",
    "        break    \n",
    "else:\n",
    "        print('游戏结束')\n",
    "       "
   ]
  },
  {
   "cell_type": "code",
   "execution_count": 2,
   "metadata": {},
   "outputs": [
    {
     "name": "stdout",
     "output_type": "stream",
     "text": [
      "-2是偶数\n",
      "0是偶数\n",
      "2是偶数\n",
      "4是偶数\n",
      "6是偶数\n",
      "8是偶数\n",
      "10是偶数\n"
     ]
    }
   ],
   "source": [
    "# continue语句联系\n",
    "# 在数字-2-11中，寻找所有偶数，找到偶数后打印偶数\n",
    "for _ in range(-2,11):\n",
    "    if _ % 2 == 1:\n",
    "        continue        \n",
    "    print('%d是偶数' % _)\n"
   ]
  },
  {
   "cell_type": "code",
   "execution_count": 43,
   "metadata": {},
   "outputs": [],
   "source": [
    "# pass例子，一般用于占位\n",
    "# pass没有跳过功能\n",
    "\n",
    "for i in range(1,11):\n",
    "    pass\n",
    "    "
   ]
  }
 ],
 "metadata": {
  "kernelspec": {
   "display_name": "Python 3",
   "language": "python",
   "name": "python3"
  },
  "language_info": {
   "codemirror_mode": {
    "name": "ipython",
    "version": 3
   },
   "file_extension": ".py",
   "mimetype": "text/x-python",
   "name": "python",
   "nbconvert_exporter": "python",
   "pygments_lexer": "ipython3",
   "version": "3.6.5"
  }
 },
 "nbformat": 4,
 "nbformat_minor": 2
}
