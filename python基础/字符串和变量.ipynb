{
 "cells": [
  {
   "cell_type": "code",
   "execution_count": 14,
   "metadata": {},
   "outputs": [
    {
     "name": "stdout",
     "output_type": "stream",
     "text": [
      "请输入你的名字：1\n",
      "你好!1，你是先生还是女士：2\n",
      "你好！12,很高兴见到你。\n"
     ]
    }
   ],
   "source": [
    "name=input('请输入你的名字：')\n",
    "sex=input('你好!'+name+'，你是先生还是女士：')\n",
    "print('你好！'+name+sex+',很高兴见到你。')"
   ]
  },
  {
   "cell_type": "code",
   "execution_count": 2,
   "metadata": {},
   "outputs": [
    {
     "name": "stdout",
     "output_type": "stream",
     "text": [
      "hellow\n"
     ]
    },
    {
     "data": {
      "text/plain": [
       "'\\ndfdsfsdfsdfsdf\\n'"
      ]
     },
     "execution_count": 2,
     "metadata": {},
     "output_type": "execute_result"
    }
   ],
   "source": [
    "print('hellow')\n",
    "'''\n",
    "dfdsfsdfsdfsdf\n",
    "'''"
   ]
  },
  {
   "cell_type": "code",
   "execution_count": 6,
   "metadata": {},
   "outputs": [
    {
     "name": "stdout",
     "output_type": "stream",
     "text": [
      "1 2 3\n"
     ]
    }
   ],
   "source": [
    "var1,var2,var3 = 1,2,3\n",
    "print(var1,var2,var3)"
   ]
  },
  {
   "cell_type": "code",
   "execution_count": 8,
   "metadata": {},
   "outputs": [
    {
     "name": "stdout",
     "output_type": "stream",
     "text": [
      "i am mk ,i am 18 ysd\n"
     ]
    }
   ],
   "source": [
    "a = 'i am %s ,i am %d ysd'\n",
    "print(a % ('mk',18))"
   ]
  },
  {
   "cell_type": "code",
   "execution_count": 16,
   "metadata": {},
   "outputs": [
    {
     "name": "stdout",
     "output_type": "stream",
     "text": [
      "my name is mk,i am 18 and my name is mk\n"
     ]
    }
   ],
   "source": [
    "a = 'my name is {1},i am {0} and my name is {1}'.format(18,'mk') \n",
    "print(a)"
   ]
  },
  {
   "cell_type": "code",
   "execution_count": 21,
   "metadata": {},
   "outputs": [
    {
     "name": "stdout",
     "output_type": "stream",
     "text": [
      "3\n",
      "1\n",
      "27\n"
     ]
    }
   ],
   "source": [
    "a = 10 // 3\n",
    "print(a)\n",
    "a = 10 % 3\n",
    "print(a)\n",
    "a = 3 ** 3\n",
    "print(a)"
   ]
  },
  {
   "cell_type": "code",
   "execution_count": 11,
   "metadata": {},
   "outputs": [
    {
     "name": "stdout",
     "output_type": "stream",
     "text": [
      "True\n",
      "True\n"
     ]
    }
   ],
   "source": [
    "a = True\n",
    "b = False\n",
    "c = False\n",
    "e = True\n",
    "d = (b and a) and  c or e\n",
    "print(d)\n",
    "l = [1,2,3,5,6]\n",
    "a = 7\n",
    "c = a not in l\n",
    "print(c)\n"
   ]
  },
  {
   "cell_type": "code",
   "execution_count": null,
   "metadata": {},
   "outputs": [],
   "source": []
  }
 ],
 "metadata": {
  "kernelspec": {
   "display_name": "Python 3",
   "language": "python",
   "name": "python3"
  },
  "language_info": {
   "codemirror_mode": {
    "name": "ipython",
    "version": 3
   },
   "file_extension": ".py",
   "mimetype": "text/x-python",
   "name": "python",
   "nbconvert_exporter": "python",
   "pygments_lexer": "ipython3",
   "version": "3.6.5"
  }
 },
 "nbformat": 4,
 "nbformat_minor": 2
}
