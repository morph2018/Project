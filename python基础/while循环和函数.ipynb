{
 "cells": [
  {
   "cell_type": "code",
   "execution_count": 24,
   "metadata": {},
   "outputs": [
    {
     "name": "stdout",
     "output_type": "stream",
     "text": [
      "第 1 年拿了 106700.000000 块钱\n",
      "第 2 年拿了 113848.900000 块钱\n",
      "第 3 年拿了 121476.776300 块钱\n",
      "第 4 年拿了 129615.720312 块钱\n",
      "第 5 年拿了 138299.973573 块钱\n",
      "第 6 年拿了 147566.071802 块钱\n",
      "第 7 年拿了 157452.998613 块钱\n",
      "第 8 年拿了 168002.349520 块钱\n",
      "第 9 年拿了 179258.506938 块钱\n",
      "第 10 年拿了 191268.826903 块钱\n",
      "第 11 年拿了 204083.838305 块钱\n",
      "然并卵\n"
     ]
    }
   ],
   "source": [
    "# 如果说年利率是6.7%，本利是每年翻滚， 则多少年后本钱会翻倍\n",
    "\n",
    "benqian = 100000\n",
    "year = 0\n",
    "while benqian < 200000:\n",
    "    benqian = benqian * (1+0.067)\n",
    "    year += 1 # year = year + 1\n",
    "    print(\"第 %d 年拿了 %f 块钱\" % (year, benqian))\n",
    "print('然并卵')"
   ]
  },
  {
   "cell_type": "code",
   "execution_count": 12,
   "metadata": {},
   "outputs": [
    {
     "name": "stdout",
     "output_type": "stream",
     "text": [
      "明月, 你肿么咧\n",
      "Sir, 你不理额额就走咧\n",
      "我已经跟明月打招呼了，明月不理我\n"
     ]
    }
   ],
   "source": [
    "# return语句的基本使用\n",
    "# 函数打完招呼后返回一句话\n",
    "def hello(person):\n",
    "    print(\"{0}, 你肿么咧\".format(person))\n",
    "    print(\"Sir, 你不理额额就走咧\")\n",
    "    \n",
    "    return \"我已经跟{0}打招呼了，{1}不理我\".format(person, person)\n",
    "  \n",
    "p = \"明月\"\n",
    "rst = hello(p)\n",
    "\n",
    "print(rst)"
   ]
  },
  {
   "cell_type": "code",
   "execution_count": 32,
   "metadata": {},
   "outputs": [
    {
     "name": "stdout",
     "output_type": "stream",
     "text": [
      "1 \n",
      "2 4 \n",
      "3 6 9 \n",
      "4 8 12 16 \n",
      "5 10 15 20 25 \n",
      "6 12 18 24 30 36 \n",
      "7 14 21 28 35 42 49 \n",
      "8 16 24 32 40 48 56 64 \n",
      "9 18 27 36 45 54 63 72 81 \n"
     ]
    }
   ],
   "source": [
    "# 九九乘法表\n",
    "# version 1.0\n",
    "for row in range(1,10):\n",
    "    # 打印一行\n",
    "    for col in range(1, row+1):\n",
    "        # print函数默认任务打印完毕后换行\n",
    "        print( row * col, end=\" \")\n",
    "    print('')"
   ]
  },
  {
   "cell_type": "code",
   "execution_count": 29,
   "metadata": {},
   "outputs": [
    {
     "name": "stdout",
     "output_type": "stream",
     "text": [
      "mingyue is 21, and he is a male student\n",
      "xiaojing is 23, and she is a good student\n"
     ]
    }
   ],
   "source": [
    "# 默认参数示例\n",
    "# 报名函数，需要知道学生性别\n",
    "# 学习python的学生基本都是男生，所以，报名的时候如果没有特别指定，我们任务是男生\n",
    "def reg(name, age, gender=\"male\"):\n",
    "    if gender == \"male\":\n",
    "        print(\"{0} is {1}, and he is a {2} student\".format(name, age, gender))\n",
    "    else:\n",
    "        print(\"{0} is {1}, and she is a good student\".format(name, age))\n",
    "# 调用默认参数函数案例1\n",
    "\n",
    "reg(\"mingyue\", 21)\n",
    "\n",
    "reg(\"xiaojing\", 23, \"female\")"
   ]
  },
  {
   "cell_type": "code",
   "execution_count": 34,
   "metadata": {
    "scrolled": true
   },
   "outputs": [
    {
     "name": "stdout",
     "output_type": "stream",
     "text": [
      "1 \n",
      "2 4 \n",
      "3 6 9 \n",
      "4 8 12 16 \n",
      "5 10 15 20 25 \n",
      "6 12 18 24 30 36 \n",
      "7 14 21 28 35 42 49 \n",
      "8 16 24 32 40 48 56 64 \n",
      "9 18 27 36 45 54 63 72 81 \n"
     ]
    }
   ],
   "source": [
    "# 九九乘法表\n",
    "# version 2.0\n",
    "def func_col():\n",
    "    for col in range(1,row+1):\n",
    "        print(row * col,end=' ')\n",
    "       \n",
    "for row in range(1,10):\n",
    "    func_col()\n",
    "    print('') \n",
    "    \n",
    "    "
   ]
  },
  {
   "cell_type": "code",
   "execution_count": 28,
   "metadata": {},
   "outputs": [
    {
     "name": "stdout",
     "output_type": "stream",
     "text": [
      "27\n"
     ]
    }
   ],
   "source": [
    "for i in range(1,10):\n",
    "    pass\n",
    "print(i * 3)"
   ]
  },
  {
   "cell_type": "code",
   "execution_count": 4,
   "metadata": {},
   "outputs": [
    {
     "ename": "AttributeError",
     "evalue": "'set' object has no attribute 'format'",
     "output_type": "error",
     "traceback": [
      "\u001b[1;31m---------------------------------------------------------------------------\u001b[0m",
      "\u001b[1;31mAttributeError\u001b[0m                            Traceback (most recent call last)",
      "\u001b[1;32m<ipython-input-4-93f7d096d202>\u001b[0m in \u001b[0;36m<module>\u001b[1;34m()\u001b[0m\n\u001b[1;32m----> 1\u001b[1;33m \u001b[0ma\u001b[0m \u001b[1;33m=\u001b[0m \u001b[1;33m{\u001b[0m\u001b[1;36m0\u001b[0m\u001b[1;33m}\u001b[0m\u001b[1;33m.\u001b[0m\u001b[0mformat\u001b[0m\u001b[1;33m(\u001b[0m\u001b[1;36m1\u001b[0m\u001b[1;33m)\u001b[0m\u001b[1;33m\u001b[0m\u001b[0m\n\u001b[0m\u001b[0;32m      2\u001b[0m \u001b[0mprint\u001b[0m\u001b[1;33m(\u001b[0m\u001b[0ma\u001b[0m\u001b[1;33m)\u001b[0m\u001b[1;33m\u001b[0m\u001b[0m\n",
      "\u001b[1;31mAttributeError\u001b[0m: 'set' object has no attribute 'format'"
     ]
    }
   ],
   "source": []
  }
 ],
 "metadata": {
  "kernelspec": {
   "display_name": "Python 3",
   "language": "python",
   "name": "python3"
  },
  "language_info": {
   "codemirror_mode": {
    "name": "ipython",
    "version": 3
   },
   "file_extension": ".py",
   "mimetype": "text/x-python",
   "name": "python",
   "nbconvert_exporter": "python",
   "pygments_lexer": "ipython3",
   "version": "3.6.5"
  }
 },
 "nbformat": 4,
 "nbformat_minor": 2
}
