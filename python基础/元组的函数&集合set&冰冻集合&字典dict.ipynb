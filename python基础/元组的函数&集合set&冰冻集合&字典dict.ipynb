{
 "cells": [
  {
   "cell_type": "code",
   "execution_count": 5,
   "metadata": {},
   "outputs": [
    {
     "name": "stdout",
     "output_type": "stream",
     "text": [
      "5\n",
      "6\n",
      "5\n",
      "1\n"
     ]
    }
   ],
   "source": [
    "# len: 获取元组的长度\n",
    "t = (1,2,3,4,5)\n",
    "print(len(t))\n",
    "a = 1 + len(t)\n",
    "print(a)\n",
    "# max, min:最大最小值\n",
    "# 如果，列表或元组中有多个最大最小值，则实际打印出哪个\n",
    "print(max(t))\n",
    "print(min(t))"
   ]
  },
  {
   "cell_type": "code",
   "execution_count": 6,
   "metadata": {},
   "outputs": [
    {
     "name": "stdout",
     "output_type": "stream",
     "text": [
      "(1, 2, 3, 4, 5)\n",
      "()\n"
     ]
    }
   ],
   "source": [
    "# tuple:转化或创建元组\n",
    "l = [1,2,3,4,5]\n",
    "t = tuple(l)\n",
    "print(t)\n",
    "t = tuple()\n",
    "print(t)"
   ]
  },
  {
   "cell_type": "code",
   "execution_count": 7,
   "metadata": {},
   "outputs": [
    {
     "name": "stdout",
     "output_type": "stream",
     "text": [
      "3\n",
      "4\n",
      "1\n"
     ]
    }
   ],
   "source": [
    "# count: 计算制定数据出现的次数\n",
    "t = (2,1,2,3,45,1,1,2,)\n",
    "print(t.count(2))\n",
    "# index:求指定元素在元组中的索引位置\n",
    "print(t.index(45))\n",
    "# 如果需要查找的数字是多个，则返回第一个\n",
    "print(t.index(1))"
   ]
  },
  {
   "cell_type": "code",
   "execution_count": 8,
   "metadata": {},
   "outputs": [
    {
     "name": "stdout",
     "output_type": "stream",
     "text": [
      "1\n",
      "3\n",
      "********************\n",
      "3\n",
      "1\n",
      "********************\n",
      "1\n",
      "3\n"
     ]
    }
   ],
   "source": [
    "# 两个变量交换值\n",
    "a = 1\n",
    "b = 3\n",
    "print(a)\n",
    "print(b)\n",
    "print(\"*\" * 20)\n",
    "# java程序员会这么写：\n",
    "c = a\n",
    "a = b\n",
    "b = c\n",
    "print(a)\n",
    "print(b)\n",
    "print(\"*\" * 20)\n",
    "# python的写法\n",
    "a,b = b,a\n",
    "print(a)\n",
    "print(b)"
   ]
  },
  {
   "cell_type": "code",
   "execution_count": 12,
   "metadata": {},
   "outputs": [
    {
     "name": "stdout",
     "output_type": "stream",
     "text": [
      "<class 'set'>\n",
      "set()\n",
      "{1, 2, 3, 4, 5, 6, 7}\n"
     ]
    }
   ],
   "source": [
    "# 集合的创建\n",
    "s = set()\n",
    "print(type(s))\n",
    "print(s)\n",
    "# 此时，大括号内一定要有值，否则定义出的是一个dict\n",
    "s = {1,2,3,4,5,6,7}\n",
    "print(s)"
   ]
  },
  {
   "cell_type": "code",
   "execution_count": 17,
   "metadata": {},
   "outputs": [
    {
     "name": "stdout",
     "output_type": "stream",
     "text": [
      "{1, 2, 3, 5, 6, 7}\n",
      "{1, 2, 3, 4, 5, 6, 7, 8, 9}\n"
     ]
    }
   ],
   "source": [
    "'''\n",
    "集合的特征\n",
    "集合内数据无序，即无法使用索引和分片\n",
    "集合内部数据元素具有唯一性，可以用来排除重复数据\n",
    "集合内的数据，str, int, float, tuple,冰冻集合等，即内部只能放置可哈希(hashable可散列)数据\n",
    "'''\n",
    "a = {1,2,3,1,2,5,6,7}\n",
    "print(a)\n",
    "b = {i for i in range(1,10)}\n",
    "print(b)"
   ]
  },
  {
   "cell_type": "code",
   "execution_count": 8,
   "metadata": {},
   "outputs": [
    {
     "name": "stdout",
     "output_type": "stream",
     "text": [
      "{2, 3}\n",
      "77188232\n",
      "{2, 3}\n",
      "set()\n",
      "set()\n"
     ]
    }
   ],
   "source": [
    "#pop函数随机取出一个元素\n",
    "x = {1,2,3}\n",
    "x.pop()\n",
    "print(x)\n",
    "print(id(x))\n",
    "#remove取出一个元素\n",
    "x = {1,2,3}\n",
    "x.remove(1)\n",
    "print(x)\n",
    "# clear:清空\n",
    "x.clear()\n",
    "print(x)\n",
    "#copy\n",
    "y = x.copy()\n",
    "print(y)"
   ]
  },
  {
   "cell_type": "code",
   "execution_count": 11,
   "metadata": {},
   "outputs": [
    {
     "ename": "TypeError",
     "evalue": "unhashable type: 'list'",
     "output_type": "error",
     "traceback": [
      "\u001b[1;31m---------------------------------------------------------------------------\u001b[0m",
      "\u001b[1;31mTypeError\u001b[0m                                 Traceback (most recent call last)",
      "\u001b[1;32m<ipython-input-11-d857f5367680>\u001b[0m in \u001b[0;36m<module>\u001b[1;34m()\u001b[0m\n\u001b[1;32m----> 1\u001b[1;33m \u001b[0mx\u001b[0m \u001b[1;33m=\u001b[0m \u001b[1;33m{\u001b[0m\u001b[1;33m[\u001b[0m\u001b[1;36m1\u001b[0m\u001b[1;33m,\u001b[0m \u001b[1;36m2\u001b[0m\u001b[1;33m]\u001b[0m\u001b[1;33m,\u001b[0m \u001b[1;33m[\u001b[0m\u001b[1;36m1\u001b[0m\u001b[1;33m,\u001b[0m \u001b[1;36m2\u001b[0m\u001b[1;33m,\u001b[0m \u001b[1;36m3\u001b[0m\u001b[1;33m]\u001b[0m\u001b[1;33m,\u001b[0m \u001b[1;36m1\u001b[0m \u001b[1;33m}\u001b[0m\u001b[1;33m\u001b[0m\u001b[0m\n\u001b[0m\u001b[0;32m      2\u001b[0m \u001b[0mprint\u001b[0m\u001b[1;33m(\u001b[0m\u001b[0mx\u001b[0m\u001b[1;33m)\u001b[0m\u001b[1;33m\u001b[0m\u001b[0m\n",
      "\u001b[1;31mTypeError\u001b[0m: unhashable type: 'list'"
     ]
    }
   ],
   "source": [
    "x = {[1, 2], [1, 2, 3], 1 }\n",
    "print(x)"
   ]
  },
  {
   "cell_type": "code",
   "execution_count": 12,
   "metadata": {},
   "outputs": [
    {
     "name": "stdout",
     "output_type": "stream",
     "text": [
      "{545, 1, 3, 2, 4, 23, 223}\n",
      "{545, 2, 3, 4, 1, 23, 223}\n",
      "{2, 4}\n"
     ]
    }
   ],
   "source": [
    "# 普通集合内涵\n",
    "# 以下集合在初始化后自动过滤掉重复元素\n",
    "s = {23,223,545,3,1,2,3,4,3,2,3,1,2,4,3}\n",
    "print(s)\n",
    "# 普通集合内涵\n",
    "ss = {i for i in s}\n",
    "print(ss)\n",
    "# 带条件的集合内涵\n",
    "sss = {i for i in s if i % 2 == 0}\n",
    "print(sss)"
   ]
  },
  {
   "cell_type": "code",
   "execution_count": 13,
   "metadata": {},
   "outputs": [
    {
     "name": "stdout",
     "output_type": "stream",
     "text": [
      "{'lovelovelovelove', 'wangxiaojingwangxiaojing', 'wangxiaojingwangxiaojingwangxiaojing', 'i', 'lovelove', 'iiii', 'wangxiaojing', 'iii', 'ii', 'love', 'lovelovelove', 'wangxiaojingwangxiaojingwangxiaojingwangxiaojing'}\n",
      "{'lovelove', 'wangxiaojingwangxiaojing', 'ii'}\n"
     ]
    }
   ],
   "source": [
    "# 多循环的集合内涵\n",
    "s1 = {1,2,3,4}\n",
    "s2 = {\"i\", \"love\", \"wangxiaojing\"}\n",
    "s = {m*n for m in s2 for n in s1}\n",
    "print(s)\n",
    "s = {m*n for m in s2 for n in s1 if n ==2}\n",
    "print(s)"
   ]
  },
  {
   "cell_type": "code",
   "execution_count": null,
   "metadata": {},
   "outputs": [],
   "source": [
    "# len, max, min:跟其他基本函数一致\n",
    "s = {43,23,56,223,4,2,1222,4,323,1}\n",
    "print(len(s))\n",
    "print( max(s))\n",
    "print(min(s))\n",
    "# set:生成一个集合\n",
    "l = [1,2,3,4,3,23,1,2,3,4]\n",
    "s = set(l)\n",
    "print(s)"
   ]
  },
  {
   "cell_type": "code",
   "execution_count": 21,
   "metadata": {},
   "outputs": [
    {
     "name": "stdout",
     "output_type": "stream",
     "text": [
      "77187336\n",
      "{1, 334}\n",
      "77187336\n"
     ]
    }
   ],
   "source": [
    "# add：向集合内添加元素\n",
    "s = {1}\n",
    "print(id(s))\n",
    "s.add(334)\n",
    "print(s)\n",
    "print(id(s))"
   ]
  },
  {
   "cell_type": "code",
   "execution_count": 15,
   "metadata": {},
   "outputs": [
    {
     "name": "stdout",
     "output_type": "stream",
     "text": [
      "{1, 2, 3, 5, 23}\n",
      "{2, 3, 5, 23}\n",
      "********************\n",
      "{2, 3, 5, 23}\n"
     ]
    },
    {
     "ename": "KeyError",
     "evalue": "1100",
     "output_type": "error",
     "traceback": [
      "\u001b[1;31m---------------------------------------------------------------------------\u001b[0m",
      "\u001b[1;31mKeyError\u001b[0m                                  Traceback (most recent call last)",
      "\u001b[1;32m<ipython-input-15-5e741c084348>\u001b[0m in \u001b[0;36m<module>\u001b[1;34m()\u001b[0m\n\u001b[0;32m      9\u001b[0m \u001b[0ms\u001b[0m\u001b[1;33m.\u001b[0m\u001b[0mdiscard\u001b[0m\u001b[1;33m(\u001b[0m\u001b[1;36m1100\u001b[0m\u001b[1;33m)\u001b[0m\u001b[1;33m\u001b[0m\u001b[0m\n\u001b[0;32m     10\u001b[0m \u001b[0mprint\u001b[0m\u001b[1;33m(\u001b[0m\u001b[0ms\u001b[0m\u001b[1;33m)\u001b[0m\u001b[1;33m\u001b[0m\u001b[0m\n\u001b[1;32m---> 11\u001b[1;33m \u001b[0ms\u001b[0m\u001b[1;33m.\u001b[0m\u001b[0mremove\u001b[0m\u001b[1;33m(\u001b[0m\u001b[1;36m1100\u001b[0m\u001b[1;33m)\u001b[0m\u001b[1;33m\u001b[0m\u001b[0m\n\u001b[0m\u001b[0;32m     12\u001b[0m \u001b[0mprint\u001b[0m\u001b[1;33m(\u001b[0m\u001b[0ms\u001b[0m\u001b[1;33m)\u001b[0m\u001b[1;33m\u001b[0m\u001b[0m\n\u001b[0;32m     13\u001b[0m \u001b[1;31m# 为啥ｒｅｍｏｖｅ不存在的值会报ｋｅｙｅｒｒｏｒ\u001b[0m\u001b[1;33m\u001b[0m\u001b[1;33m\u001b[0m\u001b[0m\n",
      "\u001b[1;31mKeyError\u001b[0m: 1100"
     ]
    }
   ],
   "source": [
    "# remove:移除制定的值，直接改变原有值，如果要删除的值不存在，报错\n",
    "# discard:移除集合中指定的值，跟ｒｅｍｖｏｅ一样，但是删除不存在的值，不报错\n",
    "s = {23,3,4,5,1,2,3}\n",
    "s.remove(4)\n",
    "print(s)\n",
    "s.discard(1)\n",
    "print(s)\n",
    "print(\"*\" * 20)\n",
    "s.discard(1100)\n",
    "print(s)\n",
    "s.remove(1100)\n",
    "print(s)\n",
    "# 为啥ｒｅｍｏｖｅ不存在的值会报ｋｅｙｅｒｒｏｒ"
   ]
  },
  {
   "cell_type": "code",
   "execution_count": null,
   "metadata": {},
   "outputs": [],
   "source": [
    "# 集合特有函数\n",
    "# intersection: 交集\n",
    "# difference:差集\n",
    "# union: 并集\n",
    "# issubset: 检查一个集合是否为另一个子集\n",
    "# issuperset: 检查一个集合是否为另一个超集\n",
    "s1 = {1,2,3,4,5,6}\n",
    "s2 = {5,6,7,8,9}\n",
    "\n",
    "s_1 = s1.intersection(s2)\n",
    "print(s_1)\n",
    "\n",
    "s_2 = s1.difference(s2)\n",
    "print(s_2)\n",
    "\n",
    "s_3 = s1.issubset(s2)\n",
    "print(s_3)"
   ]
  },
  {
   "cell_type": "code",
   "execution_count": 20,
   "metadata": {},
   "outputs": [
    {
     "name": "stdout",
     "output_type": "stream",
     "text": [
      "True\n"
     ]
    }
   ],
   "source": [
    "s1 = {1,2,3,4}\n",
    "s2 = {1,2}\n",
    "s3 = s1.issuperset(s2)\n",
    "print(s3)"
   ]
  },
  {
   "cell_type": "code",
   "execution_count": null,
   "metadata": {},
   "outputs": [],
   "source": [
    "# 集合的数学操作，可减不可加\n",
    "s1 = {1,2,3,4,5,6}\n",
    "s2 = {5,6,7,8,9}\n",
    "\n",
    "s_1 = s1 - s2\n",
    "print(s_1)\n",
    "\n",
    "s_2 = s1 + s2\n",
    "print(s_2)"
   ]
  },
  {
   "cell_type": "code",
   "execution_count": null,
   "metadata": {},
   "outputs": [],
   "source": [
    "#冰冻集合就是不可以进行任何修改的集合\n",
    "#frozenset是一种特殊集合\n",
    "# 创建\n",
    "s = frozenset()\n",
    "print(type(s))\n",
    "print(s)"
   ]
  },
  {
   "cell_type": "code",
   "execution_count": 22,
   "metadata": {},
   "outputs": [
    {
     "name": "stdout",
     "output_type": "stream",
     "text": [
      "{}\n",
      "{}\n",
      "{'one': 1, 'two': 2, 'three': 3}\n",
      "{'one': 1, 'two': 2, 'three': 3}\n",
      "{'one': 1, 'two': 2, 'three': 3}\n",
      "{'one': 1, 'two': 2, 'three': 3}\n"
     ]
    }
   ],
   "source": [
    "#字典dict是一种没有顺序的组合数据，数据以键值对形式出现\n",
    "# 创建空字典1\n",
    "d = {}\n",
    "print(d)\n",
    "\n",
    "# 创建空字典2\n",
    "d = dict()\n",
    "print(d)\n",
    "\n",
    "# 创建有值的字典， 每一组数据用冒号隔开， 每一对键值对用逗号隔开\n",
    "d = {\"one\":1, \"two\":2, \"three\":3}\n",
    "print(d)\n",
    "\n",
    "# 用dict创建有内容字典1\n",
    "d = dict({\"one\":1, \"two\":2, \"three\":3})\n",
    "print(d)\n",
    "\n",
    "# 用dict创建有内容字典2\n",
    "# 利用关键字参数\n",
    "d = dict(one=1, two=2, three=3)\n",
    "print(d)\n",
    "\n",
    "\n",
    "# \n",
    "d = dict( [(\"one\",1), (\"two\",2), (\"three\",3)])\n",
    "print(d)"
   ]
  },
  {
   "cell_type": "code",
   "execution_count": 24,
   "metadata": {},
   "outputs": [
    {
     "name": "stdout",
     "output_type": "stream",
     "text": [
      "1\n",
      "{'one': 'eins', 'two': 2, 'three': 3}\n",
      "{'two': 2, 'three': 3}\n"
     ]
    }
   ],
   "source": [
    "#字典的特征\n",
    "#字典是序列类型，但是是无序序列，所以没有分片和索引\n",
    "#字典中的数据每个都有键值对组成，即kv对\n",
    "#key: 必须是可哈希的值，比如int,string,float,tuple, 但是，list,set,dict 不行\n",
    "#value: 任何值\n",
    "# 访问数据\n",
    "d = {\"one\":1, \"two\":2, \"three\":3}\n",
    "# 注意访问格式\n",
    "# 中括号内是键值\n",
    "print(d[\"one\"])\n",
    "d[\"one\"] = \"eins\"\n",
    "print(d)\n",
    "\n",
    "# 删除某个操作\n",
    "# 使用del操作\n",
    "del d[\"one\"]\n",
    "print(d)"
   ]
  },
  {
   "cell_type": "code",
   "execution_count": 31,
   "metadata": {},
   "outputs": [
    {
     "name": "stdout",
     "output_type": "stream",
     "text": [
      "80673416\n",
      "{1: [0, 2], 2: 2, 'three': 3}\n",
      "80673416\n"
     ]
    }
   ],
   "source": [
    "#字典内的key其实就相当于index在列表中的索引作用\n",
    "d = {1:[1,2], 2:2, \"three\":3}\n",
    "print(id(d[1]))\n",
    "d[1][0] =0 \n",
    "print(d)\n",
    "print(id(d[1]))"
   ]
  },
  {
   "cell_type": "code",
   "execution_count": 42,
   "metadata": {},
   "outputs": [
    {
     "name": "stdout",
     "output_type": "stream",
     "text": [
      "one 1\n",
      "two 2\n",
      "three 3\n",
      "one 1\n",
      "two 2\n",
      "three 3\n",
      "1\n",
      "2\n",
      "3\n",
      "one -- 1\n",
      "two -- 2\n",
      "three -- 3\n"
     ]
    }
   ],
   "source": [
    "# 遍历操作在python2 和 3 中区别比较大，代码不通用\n",
    "# 按key来使用for循环\n",
    "d = {\"one\":1, \"two\":2, \"three\":3}\n",
    "# 使用for循环，直接按key值访问\n",
    "for k in d:\n",
    "    print(k,  d[k])\n",
    "    \n",
    "# 上述代码可以改写成如下\n",
    "for k in d.keys():\n",
    "    print(k,  d[k])\n",
    "    \n",
    "# 只访问字典的值\n",
    "for v in d.values():\n",
    "    print(v)\n",
    "    \n",
    "# 注意以下特殊用法\n",
    "for k,v in d.items():\n",
    "    print(k,'--',v)"
   ]
  },
  {
   "cell_type": "code",
   "execution_count": 45,
   "metadata": {},
   "outputs": [
    {
     "name": "stdout",
     "output_type": "stream",
     "text": [
      "{'one': 1, 'two': 2, 'three': 3}\n",
      "{'two': 2}\n"
     ]
    }
   ],
   "source": [
    "d = {\"one\":1, \"two\":2, \"three\":3}\n",
    "# 常规字典生成式\n",
    "dd = {k:v for k,v in d.items()}\n",
    "print(dd)\n",
    "\n",
    "# 加限制条件的字典生成式\n",
    "dd = {k:v for k,v in d.items() if v % 2 == 0}\n",
    "print(dd)"
   ]
  },
  {
   "cell_type": "code",
   "execution_count": 54,
   "metadata": {},
   "outputs": [
    {
     "name": "stdout",
     "output_type": "stream",
     "text": [
      "{1: 1, 'two': 2, 'three': 3}\n",
      "<class 'dict_items'>\n",
      "dict_items([('one', 1), ('two', 2), ('three', 3)])\n",
      "one = 1\n",
      "two = 2\n",
      "three = 3\n"
     ]
    }
   ],
   "source": [
    "# 通用函数： len, max, min, dict\n",
    "# str(字典): 返回字典的字符串格式\n",
    "d = {1:1, \"two\":2, \"three\":3}\n",
    "print(str(d))\n",
    "# clear: 清空字典\n",
    "# items: 返回字典的键值对组成的元组格式\n",
    "d = {\"one\":1, \"two\":2, \"three\":3}\n",
    "i = d.items()\n",
    "print(type(i))\n",
    "print(i)\n",
    "for k,v in d.items():\n",
    "    print(k,'=',v)"
   ]
  },
  {
   "cell_type": "code",
   "execution_count": 55,
   "metadata": {},
   "outputs": [
    {
     "name": "stdout",
     "output_type": "stream",
     "text": [
      "<class 'dict_keys'>\n",
      "dict_keys(['one', 'two', 'three'])\n",
      "<class 'dict_values'>\n",
      "dict_values([1, 2, 3])\n"
     ]
    }
   ],
   "source": [
    "# keys:返回字典的键组成的一个结构\n",
    "k = d.keys()\n",
    "print(type(k))\n",
    "print(k)\n",
    "# values: 同理，一个可迭代的结构\n",
    "v = d.values()\n",
    "print(type(v))\n",
    "print(v)"
   ]
  },
  {
   "cell_type": "code",
   "execution_count": 57,
   "metadata": {},
   "outputs": [
    {
     "name": "stdout",
     "output_type": "stream",
     "text": [
      "None\n",
      "1\n",
      "100\n"
     ]
    }
   ],
   "source": [
    "# get函数: 查找字典里是否有指定的key，如果有，返回key的值\n",
    "#如果没有，返回你自己设定的值\n",
    "d = {\"one\":1, \"two\":2, \"three\":3}\n",
    "print(d.get(\"on333\"))\n",
    "# get默认值是None，可以设置\n",
    "print(d.get(\"one\", 100))\n",
    "print(d.get(\"one333\", 100))"
   ]
  },
  {
   "cell_type": "code",
   "execution_count": 60,
   "metadata": {},
   "outputs": [
    {
     "name": "stdout",
     "output_type": "stream",
     "text": [
      "{'eins': 'hahahahahah', 'zwei': 'hahahahahah', 'drei': 'hahahahahah'}\n"
     ]
    }
   ],
   "source": [
    "# fromkeys: 使用指定的序列作为键，使用一个值作为字典的所有的键的值\n",
    "l = [\"eins\", \"zwei\", \"drei\"]\n",
    "# 注意fromkeys两个参数的类型\n",
    "# 注意fromkeys的调用主体\n",
    "d = dict.fromkeys(l, \"hahahahahah\")\n",
    "print(d)"
   ]
  }
 ],
 "metadata": {
  "kernelspec": {
   "display_name": "Python 3",
   "language": "python",
   "name": "python3"
  },
  "language_info": {
   "codemirror_mode": {
    "name": "ipython",
    "version": 3
   },
   "file_extension": ".py",
   "mimetype": "text/x-python",
   "name": "python",
   "nbconvert_exporter": "python",
   "pygments_lexer": "ipython3",
   "version": "3.6.5"
  }
 },
 "nbformat": 4,
 "nbformat_minor": 2
}
