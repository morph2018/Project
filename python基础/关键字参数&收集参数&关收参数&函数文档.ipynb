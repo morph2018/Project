{
 "cells": [
  {
   "cell_type": "code",
   "execution_count": 1,
   "metadata": {},
   "outputs": [
    {
     "name": "stdout",
     "output_type": "stream",
     "text": [
      "I am a student\n",
      "我叫 18， 我今年 jingjing岁了， 我住我家\n",
      "I am a student\n",
      "我叫 No name， 我今年 18岁了， 我住我家\n"
     ]
    }
   ],
   "source": [
    "# 关键字参数案例\n",
    "def stu(name, age, addr):\n",
    "    print(\"I am a student\")\n",
    "    print(\"我叫 {0}， 我今年 {1}岁了， 我住{2}\".format(name, age, addr))\n",
    "    \n",
    "    \n",
    "n = \"jingjing\"\n",
    "a = 18\n",
    "addr = \"我家\"\n",
    "\n",
    "# 普通参数，只按照位置传递，容易出错\n",
    "stu(a, n, addr)\n",
    "\n",
    "\n",
    "def stu_key(name=\"No name\", age=0, addr=\"No addr\"):\n",
    "    print(\"I am a student\")\n",
    "    print(\"我叫 {0}， 我今年 {1}岁了， 我住{2}\".format(name, age, addr))\n",
    "    \n",
    "    \n",
    "n = \"jingjing\"\n",
    "a = 18\n",
    "addr = \"我家\"\n",
    "\n",
    "# 普通参数，只按照位置传递，容易出错\n",
    "stu_key(age=a, name=n, addr=addr)"
   ]
  },
  {
   "cell_type": "code",
   "execution_count": 7,
   "metadata": {},
   "outputs": [
    {
     "name": "stdout",
     "output_type": "stream",
     "text": [
      "Hello 大家好，我自我介绍以下，简答说两句：\n",
      "<class 'tuple'>\n",
      "liuying\n",
      "18\n",
      "北京大通州区\n",
      "wangxiaojing\n",
      "single\n",
      "Hello 大家好，我自我介绍以下，简答说两句：\n",
      "<class 'tuple'>\n",
      "周大神\n"
     ]
    }
   ],
   "source": [
    "# 收集参数代码\n",
    "# 函数模拟一个学生进行自我介绍，但具体内容不清楚\n",
    "# args把他看做一个list\n",
    "def stu( *args):\n",
    "    print(\"Hello 大家好，我自我介绍以下，简答说两句：\")\n",
    "    # type函数作用是检测变量的类型\n",
    "    print(type(args))\n",
    "    for item in args:\n",
    "        print(item)\n",
    "\n",
    "\n",
    "stu(\"liuying\", 18, \"北京大通州区\", \"wangxiaojing\", \"single\")\n",
    "\n",
    "stu(\"周大神\")"
   ]
  },
  {
   "cell_type": "code",
   "execution_count": 12,
   "metadata": {},
   "outputs": [
    {
     "name": "stdout",
     "output_type": "stream",
     "text": [
      "Hello 大家好，我先自我介绍一下：\n",
      "<class 'dict'>\n",
      "name --- liuying\n",
      "age --- 19\n",
      "addr --- 北京大通州区\n",
      "lover --- 王晓静\n",
      "work --- Teacher\n",
      "**************************************************\n",
      "Hello 大家好，我先自我介绍一下：\n",
      "<class 'dict'>\n",
      "name --- 周大神\n"
     ]
    }
   ],
   "source": [
    "#关键字参数的收集参数\n",
    "# 收集参数案例\n",
    "# 自我介绍\n",
    "# 调用的时候需要使用关键字参数调用\n",
    "def stu( **kwargs):\n",
    "    # 在函数体内对于kwargs的使用不用带星号\n",
    "    print(\"Hello 大家好，我先自我介绍一下：\")\n",
    "    print(type(kwargs))\n",
    "    # 对于字典的访问，python2 和python3有区别\n",
    "    for k,v in kwargs.items():\n",
    "        print(k, \"---\", v)\n",
    "    \n",
    "stu(name=\"liuying\",  age=19, addr=\"北京大通州区\", lover=\"王晓静\", work=\"Teacher\")\n",
    "\n",
    "print(\"*\" * 50)\n",
    "\n",
    "stu(name=\"周大神\")"
   ]
  },
  {
   "cell_type": "code",
   "execution_count": 5,
   "metadata": {},
   "outputs": [
    {
     "name": "stdout",
     "output_type": "stream",
     "text": [
      "Hello 大家好\n",
      "我叫 liuying， 我今年19大了。\n",
      "我没有爱好， so sorry\n",
      "********************\n",
      "##############################\n",
      "Hello 大家好\n",
      "我叫 liuying， 我今年19大了。\n",
      "我的爱好是游泳\n",
      "********************\n",
      "##############################\n",
      "Hello 大家好\n",
      "我叫 liuying， 我今年19大了。\n",
      "我的爱好是游泳\n",
      "********************\n",
      "王晓静\n",
      "刘石头\n",
      "##############################\n",
      "hobby2 --- 烹饪\n",
      "hobby3 --- 跟不同女生聊天\n"
     ]
    }
   ],
   "source": [
    "#定义的时候一般按照普通参数，收集参数tuple, 关键字参数，收集参数关键参数dict的顺序\n",
    "# 收集参数混合调用案例\n",
    "# stu模拟一个学生的自我介绍\n",
    "def stu(name, age, *args, hobby=\"没有\", **kwargs):\n",
    "    print(\"Hello 大家好\")\n",
    "    print(\"我叫 {0}， 我今年{1}大了。\".format(name, age))\n",
    "    if hobby == \"没有\":\n",
    "        print(\"我没有爱好， so sorry\")\n",
    "    else:\n",
    "        print(\"我的爱好是{0}\".format(hobby))\n",
    "        \n",
    "    print(\"*\" * 20)   \n",
    "    \n",
    "    for i in args:\n",
    "        print(i)\n",
    "    \n",
    "    print(\"#\" * 30)\n",
    "    \n",
    "    for k,v in kwargs.items():\n",
    "        print(k, \"---\", v)\n",
    "        \n",
    "        \n",
    "# 开始调用函数\n",
    "name = \"liuying\"\n",
    "age = 19\n",
    "\n",
    "\n",
    "# 调用的不同格式\n",
    "stu(name, age)\n",
    "\n",
    "stu(name, age, hobby=\"游泳\")\n",
    "\n",
    "stu(name, age, \"王晓静\", \"刘石头\", hobby=\"游泳\", hobby2=\"烹饪\", hobby3=\"跟不同女生聊天\")"
   ]
  },
  {
   "cell_type": "code",
   "execution_count": 13,
   "metadata": {},
   "outputs": [
    {
     "name": "stdout",
     "output_type": "stream",
     "text": [
      "Help on function stu in module __main__:\n",
      "\n",
      "stu(name, age, *args)\n",
      "    这是文档的文字内容\n",
      "    :param name: 表示学生的姓名\n",
      "    :param age: 表示学生的年龄\n",
      "    :return: 此函数没有返回值\n",
      "\n",
      "None\n",
      "********************\n",
      "   \n",
      "    这是文档的文字内容\n",
      "    :param name: 表示学生的姓名\n",
      "    :param age: 表示学生的年龄\n",
      "    :return: 此函数没有返回值\n",
      "    \n",
      "i am 1,and i am 2 ysd\n",
      "1\n",
      "2\n"
     ]
    }
   ],
   "source": [
    "def stu(name, age, *args):\n",
    "    '''   \n",
    "    这是文档的文字内容\n",
    "    :param name: 表示学生的姓名\n",
    "    :param age: 表示学生的年龄\n",
    "    :return: 此函数没有返回值\n",
    "    '''\n",
    "    pass\n",
    "    print(\"i am {0},and i am {1} ysd\".format(name,age))\n",
    "    for i in args:\n",
    "        print(i)\n",
    "    \n",
    "print(help(stu))\n",
    "print(\"*\" * 20)\n",
    "print(stu.__doc__) \n",
    "stu(1, 2, '1', '2')"
   ]
  },
  {
   "cell_type": "code",
   "execution_count": 37,
   "metadata": {},
   "outputs": [
    {
     "name": "stdout",
     "output_type": "stream",
     "text": [
      "1\n",
      "4\n",
      "(5, 6, 7, 8)\n",
      "{'y': 2, 'z': 3}\n",
      "1\n",
      "9\n",
      "(10, 5, 6, 7, 8, 's')\n",
      "{'y': 2, 'z': 3}\n"
     ]
    }
   ],
   "source": [
    "def foo(x,*args,a=4,**kwargs):  #使用默认参数时，注意默认参数的位置要在args之后kwargs之前\n",
    "    print(x)\n",
    "    print(a)\n",
    "    print(args)\n",
    "    print(kwargs)\n",
    "\n",
    "foo(1,*(5,6,7,8),**{\"y\":2,\"z\":3})   #调用函数，不改默认参数\n",
    "\n",
    "def foo(x,a=4,*args,**kwargs):  #注意：当需要修改默认参数时，要调整默认参数的位置，要放在args之前，但不可放在开头\n",
    "    print(x)\n",
    "    print(a)\n",
    "    print(args)\n",
    "    print(kwargs)\n",
    "\n",
    "foo(1,9,10,*(5,6,7,8,'s'),**{\"y\":2,\"z\":3})  #调用函数，修改默认参数a为9 "
   ]
  },
  {
   "cell_type": "code",
   "execution_count": 11,
   "metadata": {},
   "outputs": [
    {
     "name": "stdout",
     "output_type": "stream",
     "text": [
      "(('s', 2, 3), ('a', 1, 3), ('f', 2, 4))\n",
      "<class 'str'>\n",
      "s = 2 = 3\n",
      "a = 1 = 3\n",
      "f = 2 = 4\n"
     ]
    }
   ],
   "source": [
    "def func(*names):\n",
    "    \n",
    "    print(names)\n",
    "    \n",
    "    for k,v,z in names:\n",
    "        print(k,'=',v,'=',z)\n",
    "func(('s', 2, 3 ), ('a', 1, 3),('f',2, 4))\n"
   ]
  },
  {
   "cell_type": "code",
   "execution_count": null,
   "metadata": {},
   "outputs": [
    {
     "name": "stdout",
     "output_type": "stream",
     "text": [
      "\n",
      "please tell me your name \n",
      "first name:a\n",
      "last name:c\n",
      "\n",
      " Hello a c!\n",
      "\n",
      "please tell me your name \n"
     ]
    }
   ],
   "source": [
    "def name(first_name,last_name,):\n",
    "    \"\"\"返回人的姓名\"\"\"\n",
    "    full_name=first_name+' '+last_name\n",
    "    return full_name\n",
    "\n",
    "while True:\n",
    "    print(\"\\nplease tell me your name \")\n",
    "    f_name=input(\"first name:\")\n",
    "    l_name=input(\"last name:\")\n",
    "    print(\"\\n Hello \"+name(f_name,l_name)+\"!\")"
   ]
  },
  {
   "cell_type": "code",
   "execution_count": 4,
   "metadata": {},
   "outputs": [
    {
     "name": "stdout",
     "output_type": "stream",
     "text": [
      "1 2\n"
     ]
    }
   ],
   "source": []
  }
 ],
 "metadata": {
  "kernelspec": {
   "display_name": "Python 3",
   "language": "python",
   "name": "python3"
  },
  "language_info": {
   "codemirror_mode": {
    "name": "ipython",
    "version": 3
   },
   "file_extension": ".py",
   "mimetype": "text/x-python",
   "name": "python",
   "nbconvert_exporter": "python",
   "pygments_lexer": "ipython3",
   "version": "3.6.5"
  }
 },
 "nbformat": 4,
 "nbformat_minor": 2
}
