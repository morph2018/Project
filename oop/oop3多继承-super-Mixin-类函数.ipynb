{
 "cells": [
  {
   "cell_type": "code",
   "execution_count": 5,
   "metadata": {},
   "outputs": [
    {
     "name": "stdout",
     "output_type": "stream",
     "text": [
      "Working........\n",
      "I am flying.....\n",
      "i am swimming......\n",
      "{'__module__': '__main__', '__init__': <function Fish.__init__ at 0x0000000004E35E18>, 'swim': <function Fish.swim at 0x0000000004E35D90>, '__dict__': <attribute '__dict__' of 'Fish' objects>, '__weakref__': <attribute '__weakref__' of 'Fish' objects>, '__doc__': None}\n"
     ]
    }
   ],
   "source": [
    "# 多继承的例子\n",
    "# 子类可以直接拥有父类的属性和方法，私有属性和方法除外\n",
    "class Fish():\n",
    "    def __init__(self,name):\n",
    "        self.name = name\n",
    "    def swim(self):\n",
    "        print(\"i am swimming......\")\n",
    "        \n",
    "class Bird():\n",
    "    def __init__(self, name):\n",
    "        self.name = name\n",
    "        \n",
    "    def fly(self):\n",
    "        print(\"I am flying.....\")\n",
    "\n",
    "class Person():\n",
    "    def __init__(self, name):\n",
    "        self.name = name\n",
    "        \n",
    "    def work(self):\n",
    "        print(\"Working........\")\n",
    "        \n",
    "# 单继承的例子      \n",
    "class Student(Person):\n",
    "    def __init__(self, name):\n",
    "        self.name = name\n",
    "stu = Student(\"yueyue\")\n",
    "stu.work()\n",
    "        \n",
    "# 多继承的例子  \n",
    "class SuperMan(Person, Bird, Fish):\n",
    "    def __init__(self, name):\n",
    "        self.name = name\n",
    "\n",
    "\n",
    "class SwimMan(Person, Fish):\n",
    "    def __init__(self, name):\n",
    "        self.name = name\n",
    "        \n",
    "s = SuperMan(\"yueyue\")\n",
    "s.fly()\n",
    "s.swim()\n"
   ]
  },
  {
   "cell_type": "code",
   "execution_count": 84,
   "metadata": {},
   "outputs": [
    {
     "name": "stdout",
     "output_type": "stream",
     "text": [
      "飞翔1\n"
     ]
    }
   ],
   "source": [
    "# 菱形继承问题\n",
    "class A():\n",
    "    pass\n",
    "class B(A):\n",
    "    pass\n",
    "class C(A):\n",
    "    pass\n",
    "\n",
    "class D(B,C):\n",
    "    pass"
   ]
  },
  {
   "cell_type": "code",
   "execution_count": 77,
   "metadata": {},
   "outputs": [
    {
     "name": "stdout",
     "output_type": "stream",
     "text": [
      "{'__module__': '__main__', 'cls_msg': '我是cls_msg', '__init__': <function T.__init__ at 0x0000000004F25620>, 'cls_do': <function T.cls_do at 0x0000000004F25AE8>, 'ins_do': <function T.ins_do at 0x0000000004F25B70>, '__dict__': <attribute '__dict__' of 'T' objects>, '__weakref__': <attribute '__weakref__' of 'T' objects>, '__doc__': None}\n",
      "调用T()的话,构造函数是自动第一个执行的\n",
      "{'ins_msg': '我是instance_msg'}\n",
      "调用T()的话,构造函数是自动第一个执行的\n",
      "我是instance_msg\n",
      "<class 'type'>\n",
      "调用T()的话,构造函数是自动第一个执行的\n",
      "<class '__main__.T'>\n"
     ]
    }
   ],
   "source": [
    "#构造函数特性：\n",
    "class T():\n",
    "    cls_msg = '我是cls_msg'\n",
    "    def __init__(self):\n",
    "        self.ins_msg = '我是instance_msg'\n",
    "        print('调用T()的话,构造函数是自动第一个执行的')\n",
    "    def cls_do(self):\n",
    "        print(self.cls_msg)\n",
    "    def ins_do(self):\n",
    "        print(self.ins_msg)\n",
    "print(T.__dict__)\n",
    "print(T().__dict__)\n",
    "print(T().ins_msg)\n",
    "#T()能调用类T中的所有属性和方法，但T却不能调用构造函数中的属性和方法\n",
    "#print(T.ins_msg)这句话执行会报错\n",
    "print(type(T))\n",
    "print(type(T()))"
   ]
  },
  {
   "cell_type": "code",
   "execution_count": 61,
   "metadata": {},
   "outputs": [
    {
     "name": "stdout",
     "output_type": "stream",
     "text": [
      "<__main__.C object at 0x0000000004F3E048>\n",
      "我是C，我的父亲是B\n",
      "这是C中附加的功能\n",
      "<__main__.B object at 0x0000000004F3EF28>\n",
      "v\n",
      "<__main__.B object at 0x0000000004F3EF28>\n",
      "s\n",
      "<class 'type'>\n",
      "<__main__.B object at 0x0000000004F3EF28>\n",
      "a\n",
      "<class '__main__.B'>\n"
     ]
    }
   ],
   "source": [
    "# # super详解\n",
    "#super(C,self).__init__(name) ,super是一个类，会自动把C()代入B（C的父类）的构造函数当中当做参数（也即:self = C()）\n",
    "class A():\n",
    "    def __init__(self):\n",
    "        print(\"A\")\n",
    "\n",
    "class B(A):\n",
    "    def __init__(self, name):\n",
    "        print(self)\n",
    "        print(name)    \n",
    "class C(B):\n",
    "    # c中想扩展B的构造函数，\n",
    "    # 即调用B的构造函数后在添加一些功能\n",
    "    # 由两种方法实现\n",
    "    \n",
    "    '''\n",
    "    # 第一种是通过父类名调用\n",
    "    def __init__(self, name):\n",
    "        # 首先调用父类构造函数\n",
    "        B.__init__(self, name)\n",
    "        # 其次，再增加自己的功能\n",
    "        print(\"这是C中附加的功能\")\n",
    "    '''  \n",
    "        \n",
    "    # 第二种，使用super调用\n",
    "    def __init__(self, name):\n",
    "        # 首先调用父类构造函数\n",
    "        #super(C,self).__init__(name)等价于B.__init__(self, name)\n",
    "        #super().__init__(name)也等价于B.__init__(self, name)\n",
    "        super(C,self).__init__(name)\n",
    "        # 其次，再增加自己的功能\n",
    "        print(\"这是C中附加的功能\")\n",
    "\n",
    "c = C('我是C，我的父亲是B')\n",
    "B('v').__init__('s')\n",
    "print(type(super))"
   ]
  },
  {
   "cell_type": "code",
   "execution_count": 62,
   "metadata": {},
   "outputs": [
    {
     "name": "stdout",
     "output_type": "stream",
     "text": [
      "(<class '__main__.Tutor'>, <class '__main__.Teacher'>, <class '__main__.Student'>, <class '__main__.Person'>, <class 'object'>)\n",
      "{}\n",
      "{'__module__': '__main__', '__doc__': None}\n",
      "********************\n",
      "(<class '__main__.TutorM'>, <class '__main__.Person'>, <class '__main__.TeacherMixin'>, <class '__main__.StudentMixin'>, <class 'object'>)\n",
      "{}\n",
      "{'__module__': '__main__', '__doc__': None}\n"
     ]
    }
   ],
   "source": [
    "# Mixin案例\n",
    "class Person():\n",
    "                name = \"liuying\"\n",
    "                age = 18\n",
    "\n",
    "                def eat(self):\n",
    "                    print(\"EAT.......\")\n",
    "                    \n",
    "                def drink(self):\n",
    "                    print(\"DRINK......\")\n",
    "                    \n",
    "                def sleep(self):\n",
    "                    print(\"SLEEP.....\")\n",
    "                \n",
    "class Teacher(Person):\n",
    "                def work(self):\n",
    "                    print(\"Work\")\n",
    "\n",
    "class Student(Person):\n",
    "                def study(self):\n",
    "                    print(\"Study\")\n",
    "                    \n",
    "\n",
    "class Tutor(Teacher, Student):\n",
    "                pass\n",
    "\n",
    "t = Tutor()\n",
    "             \n",
    "print(Tutor.__mro__)\n",
    "print(t.__dict__)\n",
    "print(Tutor.__dict__)\n",
    "\n",
    "print(\"*\"*20)\n",
    "class TeacherMixin():\n",
    "                def work(self):\n",
    "                    print(\"Work\")\n",
    "\n",
    "class StudentMixin():\n",
    "                def study(self):\n",
    "                    print(\"Study\")\n",
    "                    \n",
    "class TutorM(Person, TeacherMixin, StudentMixin):\n",
    "                pass\n",
    "\n",
    "tt = TutorM()\n",
    "print(TutorM.__mro__)\n",
    "print(tt.__dict__)\n",
    "print(TutorM.__dict__)"
   ]
  },
  {
   "cell_type": "code",
   "execution_count": null,
   "metadata": {},
   "outputs": [],
   "source": [
    "# issubclass用来判断子类关系\n",
    "class A():\n",
    "    pass\n",
    "\n",
    "class B(A):\n",
    "    pass\n",
    "\n",
    "class C():\n",
    "    pass\n",
    "\n",
    "print( issubclass(B, A))\n",
    "print( issubclass(C, A))\n",
    "print( issubclass(B, object))"
   ]
  },
  {
   "cell_type": "code",
   "execution_count": null,
   "metadata": {},
   "outputs": [],
   "source": [
    "# isinstance（a，b）用来判断是否a是否是b的实例对象\n",
    "class A():\n",
    "    pass\n",
    "\n",
    "a = A()\n",
    "\n",
    "print(isinstance(a, A))\n",
    "print(isinstance(A, A))"
   ]
  },
  {
   "cell_type": "code",
   "execution_count": null,
   "metadata": {},
   "outputs": [],
   "source": [
    "# hasattr\n",
    "class A():\n",
    "    name = \"NoName\"\n",
    "    \n",
    "a = A()\n",
    "print(hasattr(a, \"name\" ))\n",
    "print(hasattr(a, \"age\" ))"
   ]
  },
  {
   "cell_type": "code",
   "execution_count": 113,
   "metadata": {},
   "outputs": [
    {
     "name": "stdout",
     "output_type": "stream",
     "text": [
      "Help on built-in function setattr in module builtins:\n",
      "\n",
      "setattr(obj, name, value, /)\n",
      "    Sets the named attribute on the given object to the specified value.\n",
      "    \n",
      "    setattr(x, 'y', v) is equivalent to ``x.y = v''\n",
      "\n"
     ]
    },
    {
     "data": {
      "text/plain": [
       "'goodname'"
      ]
     },
     "execution_count": 113,
     "metadata": {},
     "output_type": "execute_result"
    }
   ],
   "source": [
    "# help案例\n",
    "# 我想知道setattr的具体用法\n",
    "help(setattr)\n",
    "class A():\n",
    "    name = \"NoName\"\n",
    "    \n",
    "setattr(A,'name','goodname')\n",
    "A.name"
   ]
  },
  {
   "cell_type": "code",
   "execution_count": 111,
   "metadata": {},
   "outputs": [
    {
     "name": "stdout",
     "output_type": "stream",
     "text": [
      "Help on built-in function getattr in module builtins:\n",
      "\n",
      "getattr(...)\n",
      "    getattr(object, name[, default]) -> value\n",
      "    \n",
      "    Get a named attribute from an object; getattr(x, 'y') is equivalent to x.y.\n",
      "    When a default argument is given, it is returned when the attribute doesn't\n",
      "    exist; without it, an exception is raised in that case.\n",
      "\n"
     ]
    },
    {
     "data": {
      "text/plain": [
       "'NoName'"
      ]
     },
     "execution_count": 111,
     "metadata": {},
     "output_type": "execute_result"
    }
   ],
   "source": [
    "help(getattr)\n",
    "class A():\n",
    "    name = \"NoName\"\n",
    "    \n",
    "getattr(A,'name')"
   ]
  },
  {
   "cell_type": "code",
   "execution_count": 110,
   "metadata": {},
   "outputs": [
    {
     "name": "stdout",
     "output_type": "stream",
     "text": [
      "Help on built-in function delattr in module builtins:\n",
      "\n",
      "delattr(obj, name, /)\n",
      "    Deletes the named attribute from the given object.\n",
      "    \n",
      "    delattr(x, 'y') is equivalent to ``del x.y''\n",
      "\n",
      "{'__module__': '__main__', '__dict__': <attribute '__dict__' of 'G' objects>, '__weakref__': <attribute '__weakref__' of 'G' objects>, '__doc__': None}\n"
     ]
    }
   ],
   "source": [
    "help(delattr)\n",
    "class G():\n",
    "    name = \"NoName\"\n",
    "    \n",
    "delattr(G,'name')\n",
    "print(G.__dict__)"
   ]
  },
  {
   "cell_type": "code",
   "execution_count": 114,
   "metadata": {},
   "outputs": [
    {
     "data": {
      "text/plain": [
       "['__class__',\n",
       " '__delattr__',\n",
       " '__dict__',\n",
       " '__dir__',\n",
       " '__doc__',\n",
       " '__eq__',\n",
       " '__format__',\n",
       " '__ge__',\n",
       " '__getattribute__',\n",
       " '__gt__',\n",
       " '__hash__',\n",
       " '__init__',\n",
       " '__init_subclass__',\n",
       " '__le__',\n",
       " '__lt__',\n",
       " '__module__',\n",
       " '__ne__',\n",
       " '__new__',\n",
       " '__reduce__',\n",
       " '__reduce_ex__',\n",
       " '__repr__',\n",
       " '__setattr__',\n",
       " '__sizeof__',\n",
       " '__str__',\n",
       " '__subclasshook__',\n",
       " '__weakref__']"
      ]
     },
     "execution_count": 114,
     "metadata": {},
     "output_type": "execute_result"
    }
   ],
   "source": [
    "# dir 案例\n",
    "class A():\n",
    "    pass\n",
    "\n",
    "#dir(A)\n",
    "a = A()\n",
    "dir(a)"
   ]
  }
 ],
 "metadata": {
  "kernelspec": {
   "display_name": "Python 3",
   "language": "python",
   "name": "python3"
  },
  "language_info": {
   "codemirror_mode": {
    "name": "ipython",
    "version": 3
   },
   "file_extension": ".py",
   "mimetype": "text/x-python",
   "name": "python",
   "nbconvert_exporter": "python",
   "pygments_lexer": "ipython3",
   "version": "3.6.5"
  }
 },
 "nbformat": 4,
 "nbformat_minor": 2
}
