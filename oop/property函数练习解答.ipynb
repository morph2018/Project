{
 "cells": [
  {
   "cell_type": "code",
   "execution_count": 18,
   "metadata": {},
   "outputs": [
    {
     "name": "stdout",
     "output_type": "stream",
     "text": [
      "请输入姓名:rtrt\n",
      "Mr.RTRT\n",
      "请输入年龄:100.5\n",
      "100\n"
     ]
    }
   ],
   "source": [
    "class Person():\n",
    "    '''\n",
    "    这是一个人，一个高尚的人，一个脱离了低级趣味的人\n",
    "    他还他妈的有属性\n",
    "    '''\n",
    "    # 函数的名称可以任意\n",
    "    def fget(self):\n",
    "        return self._x\n",
    "    \n",
    "    def fset(self,value):\n",
    "        # 所有输入的姓名以大写形式保存\n",
    "        if type(value) == str:\n",
    "            self._x = 'Mr.' + value.upper()\n",
    "        else :    \n",
    "            self._x = int(value)\n",
    "    \n",
    "    def fdel(self):\n",
    "        del self.x\n",
    "       \n",
    "    \n",
    "    name_or_age = property(fget, fset, fdel, \"对name进行下修饰操作啦\")\n",
    "    \n",
    "    \n",
    "    \n",
    "    '''\n",
    "  \n",
    "    def getAge(self):\n",
    "        return self._age\n",
    "    \n",
    "    def setAge(self,value):\n",
    "        # 所有输入的年龄以整数保存\n",
    "        self._age = float(value)\n",
    "        self._age = int(self._age)\n",
    "        \n",
    "    def delAge(self):\n",
    "        del self._age\n",
    "    \n",
    "    age = property(getAge, setAge, delAge, \"对age进行下修饰操作啦\")\n",
    "    '''\n",
    "# 作业：\n",
    "# 1. 在用户输入年龄的时候，可以输入整数，小数，浮点数\n",
    "# 2. 但内部为了数据清洁，我们统一需要保存整数，直接舍去小数点\n",
    "p1 = Person()\n",
    "p1.name_or_age = input('请输入姓名:')\n",
    "print(p1.name_or_age)\n",
    "age = input('请输入年龄:')\n",
    "p1.name_or_age = float(age)\n",
    "print(p1.name_or_age)"
   ]
  },
  {
   "cell_type": "code",
   "execution_count": 25,
   "metadata": {},
   "outputs": [
    {
     "name": "stdout",
     "output_type": "stream",
     "text": [
      "4\n"
     ]
    }
   ],
   "source": [
    "def setY(value):\n",
    "        # isinstance(A,int)判断A是否是int，并返回一个布尔值\n",
    "        if isinstance(value,str) is True:\n",
    "            return 'Mr.' + value.upper()\n",
    "        else :    \n",
    "            n = float(value)\n",
    "            m = int(n)\n",
    "            return m\n",
    "print(setY(4))"
   ]
  },
  {
   "cell_type": "code",
   "execution_count": 26,
   "metadata": {},
   "outputs": [
    {
     "name": "stdout",
     "output_type": "stream",
     "text": [
      "True\n",
      "False\n"
     ]
    }
   ],
   "source": [
    "#is操作符是判断a,b是否指向同一对象\n",
    "# == 操作符是判断a，b的值是否相等\n",
    "a = [1,2]\n",
    "b = [1,2]\n",
    "print(a == b)\n",
    "print(a is b)"
   ]
  },
  {
   "cell_type": "code",
   "execution_count": 39,
   "metadata": {},
   "outputs": [
    {
     "name": "stdout",
     "output_type": "stream",
     "text": [
      "haha\n",
      "True\n",
      "False\n",
      "haha\n",
      "None\n",
      "<function A.__eq__ at 0x0000000004CF89D8>\n"
     ]
    }
   ],
   "source": [
    "#当a == b语句执行时，会首先执行__eq__魔法方法\n",
    "class A():\n",
    "    def __init__(self, v): \n",
    "        self.value = v\n",
    "    def __eq__(self, self2):\n",
    "        print('haha')\n",
    "        return self.value == self2.value\n",
    "a = A(3)\n",
    "b = A(3)\n",
    "print(a == b)\n",
    "print(a is b)\n",
    "A.__eq__(a,b)\n",
    "print(A.__init__(a,'a'))\n",
    "print(A.__eq__)\n"
   ]
  },
  {
   "cell_type": "code",
   "execution_count": 42,
   "metadata": {},
   "outputs": [
    {
     "ename": "NameError",
     "evalue": "name '__eq__' is not defined",
     "output_type": "error",
     "traceback": [
      "\u001b[1;31m---------------------------------------------------------------------------\u001b[0m",
      "\u001b[1;31mNameError\u001b[0m                                 Traceback (most recent call last)",
      "\u001b[1;32m<ipython-input-42-a96a908d1142>\u001b[0m in \u001b[0;36m<module>\u001b[1;34m()\u001b[0m\n\u001b[1;32m----> 1\u001b[1;33m \u001b[0mhelp\u001b[0m\u001b[1;33m(\u001b[0m\u001b[0m__eq__\u001b[0m\u001b[1;33m(\u001b[0m\u001b[1;33m)\u001b[0m\u001b[1;33m)\u001b[0m\u001b[1;33m\u001b[0m\u001b[0m\n\u001b[0m",
      "\u001b[1;31mNameError\u001b[0m: name '__eq__' is not defined"
     ]
    }
   ],
   "source": []
  }
 ],
 "metadata": {
  "kernelspec": {
   "display_name": "Python 3",
   "language": "python",
   "name": "python3"
  },
  "language_info": {
   "codemirror_mode": {
    "name": "ipython",
    "version": 3
   },
   "file_extension": ".py",
   "mimetype": "text/x-python",
   "name": "python",
   "nbconvert_exporter": "python",
   "pygments_lexer": "ipython3",
   "version": "3.6.5"
  }
 },
 "nbformat": 4,
 "nbformat_minor": 2
}
