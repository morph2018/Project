{
 "cells": [
  {
   "cell_type": "code",
   "execution_count": 26,
   "metadata": {},
   "outputs": [
    {
     "name": "stdout",
     "output_type": "stream",
     "text": [
      "82534792\n",
      "{'__module__': '__main__', 'name': [1, 2, 3], 'age': 18, 'doHomework': <function Student.doHomework at 0x0000000004EB0598>, '__dict__': <attribute '__dict__' of 'Student' objects>, '__weakref__': <attribute '__weakref__' of 'Student' objects>, '__doc__': None}\n",
      "82552760\n",
      "{}\n",
      "82552872\n",
      "82534792\n"
     ]
    }
   ],
   "source": [
    "class Student():\n",
    "    name = [1,2,3]\n",
    "    print(id(name))\n",
    "    age = 18\n",
    "    def doHomework(self):\n",
    "        print('做作业')\n",
    "        #推荐函数末尾使用return\n",
    "        return None\n",
    "print(Student.__dict__)\n",
    "print(id(Student()))\n",
    "#实例化一个对象yueyue,Student()其实就是类Student的一个对象\n",
    "yueyue = Student()\n",
    "print(yueyue.__dict__)\n",
    "print(id(yueyue))\n",
    "print(id(yueyue.name))"
   ]
  },
  {
   "cell_type": "code",
   "execution_count": 36,
   "metadata": {},
   "outputs": [
    {
     "name": "stdout",
     "output_type": "stream",
     "text": [
      "dana\n",
      "18\n",
      "81803448\n",
      "1617653344\n",
      "********************\n",
      "dana\n",
      "18\n",
      "81803448\n",
      "1617653344\n",
      "{}\n"
     ]
    }
   ],
   "source": [
    "class A():\n",
    "    name = 'dana'\n",
    "    age = 18\n",
    "    def say(self):\n",
    "        self.name = 'aaaa'\n",
    "        self.age = 200\n",
    "#此时A就是类A        \n",
    "print(A.name)\n",
    "print(A.age)\n",
    "print(id(A.name))\n",
    "print(id(A.age))\n",
    "print('*' * 20)\n",
    "#创建类的对象a，A()就是类A的一个对象\n",
    "a = A()\n",
    "print(a.name)\n",
    "print(a.age)\n",
    "print(id(a.name))\n",
    "print(id(a.age))\n",
    "print(a.__dict__)\n"
   ]
  },
  {
   "cell_type": "code",
   "execution_count": 37,
   "metadata": {},
   "outputs": [
    {
     "name": "stdout",
     "output_type": "stream",
     "text": [
      "dana\n",
      "18\n",
      "81803448\n",
      "1617653344\n",
      "********************\n",
      "nana\n",
      "16\n",
      "81983560\n",
      "1617653280\n",
      "{'name': 'nana', 'age': 16, 'se': '我们仨都是额外成员'}\n"
     ]
    }
   ],
   "source": [
    "print(A.name)\n",
    "print(A.age)\n",
    "print(id(A.name))\n",
    "print(id(A.age))\n",
    "print('*' * 20)\n",
    "#创建类的对象a\n",
    "a = A()\n",
    "a.name = 'nana'\n",
    "a.age = 16\n",
    "a.se = '我们仨都是额外成员'\n",
    "print(a.name)\n",
    "print(a.age)\n",
    "print(id(a.name))\n",
    "print(id(a.age))\n",
    "print(a.__dict__)"
   ]
  },
  {
   "cell_type": "code",
   "execution_count": 51,
   "metadata": {},
   "outputs": [
    {
     "name": "stdout",
     "output_type": "stream",
     "text": [
      "做作业\n",
      "my name is dana\n",
      "i am 18 ysd\n",
      "做作业\n",
      "my name is dana\n",
      "i am 18 ysd\n"
     ]
    }
   ],
   "source": [
    "class Student_1():\n",
    "    name = 'dana'\n",
    "    age = 18\n",
    "    def say(self):\n",
    "        print('做作业')\n",
    "        print('my name is {0}'.format(self.name))\n",
    "        print('i am {0} ysd'.format(self.age))\n",
    "        #推荐函数末尾使用return\n",
    "        return None\n",
    "    def sayAgain(s):\n",
    "        print('做作业')\n",
    "        print('my name is {0}'.format(s.name))\n",
    "        print('i am {0} ysd'.format(s.age))\n",
    "        #推荐函数末尾使用return\n",
    "        return None\n",
    "yueyue = Student_1()    \n",
    "yueyue.say()\n",
    "yueyue.sayAgain()"
   ]
  },
  {
   "cell_type": "code",
   "execution_count": 97,
   "metadata": {},
   "outputs": [
    {
     "name": "stdout",
     "output_type": "stream",
     "text": [
      "{'__module__': '__main__', 'name': 'dana', 'age': 18, 'say': <function Student_2.say at 0x0000000004F1C840>, 'sayAgain': <function Student_2.sayAgain at 0x0000000004F1C8C8>, '__dict__': <attribute '__dict__' of 'Student_2' objects>, '__weakref__': <attribute '__weakref__' of 'Student_2' objects>, '__doc__': None}\n",
      "dana\n",
      "my name is dana\n",
      "i am 18 ysd\n",
      "my name is dana\n",
      "i am 18 ysd\n",
      "做作业\n"
     ]
    }
   ],
   "source": [
    "class Student_2():\n",
    "    name = 'dana'\n",
    "    age = 18\n",
    "    def say(self):\n",
    "        print('my name is {0}'.format(self.name))\n",
    "        print('i am {0} ysd'.format(self.age))\n",
    "        #推荐函数末尾使用return\n",
    "    def sayAgain():\n",
    "        print('做作业')\n",
    "    print(Student_2.__dict__)    \n",
    "           \n",
    "#Student_2 默认为Student_2()类的一个实例，它能调用该类的一切成员，且不会将自身作为实参代入成员方法中       \n",
    "print(Student_2.name)\n",
    "Student_2().say()\n",
    "yy = Student_2()\n",
    "yy.say()\n",
    "Student_2.sayAgain()"
   ]
  },
  {
   "cell_type": "code",
   "execution_count": 122,
   "metadata": {},
   "outputs": [
    {
     "name": "stdout",
     "output_type": "stream",
     "text": [
      "aaaa\n",
      "19\n",
      "aaaa\n",
      "19\n",
      "dana\n",
      "18\n",
      "bbbb\n",
      "100\n",
      "{'__module__': '__main__', '__init__': <function C.__init__ at 0x0000000004F1C730>, 'say': <function C.say at 0x0000000004F1CBF8>, 'name': 'dana', 'age': 18, '__dict__': <attribute '__dict__' of 'C' objects>, '__weakref__': <attribute '__weakref__' of 'C' objects>, '__doc__': None}\n"
     ]
    }
   ],
   "source": [
    "class C():\n",
    "    #__init__构造函数\n",
    "    def __init__(gz):\n",
    "        gz.name = 'aaaa'\n",
    "        gz.age = 19\n",
    "    def say(self):\n",
    "        print(self.name)\n",
    "        print(self.age)\n",
    "    name = 'dana'\n",
    "    age = 18    \n",
    "class B():\n",
    "    name = 'bbbb'\n",
    "    age = 100\n",
    "c = C()\n",
    "c.say()\n",
    "#调用say函数时将C()代入函数时会先执行构造函数\n",
    "C.say(c)\n",
    "#调用say函数时将类名C代入函数时不会先执行构造函数\n",
    "C.say(C)\n",
    "C.say(B)\n",
    "print(C.__dict__)\n",
    "        "
   ]
  },
  {
   "cell_type": "code",
   "execution_count": 125,
   "metadata": {},
   "outputs": [
    {
     "name": "stdout",
     "output_type": "stream",
     "text": [
      "a\n"
     ]
    },
    {
     "ename": "AttributeError",
     "evalue": "'Person' object has no attribute '__age'",
     "output_type": "error",
     "traceback": [
      "\u001b[1;31m---------------------------------------------------------------------------\u001b[0m",
      "\u001b[1;31mAttributeError\u001b[0m                            Traceback (most recent call last)",
      "\u001b[1;32m<ipython-input-125-c65c01722cd1>\u001b[0m in \u001b[0;36m<module>\u001b[1;34m()\u001b[0m\n\u001b[0;32m      6\u001b[0m \u001b[0me\u001b[0m \u001b[1;33m=\u001b[0m \u001b[0mPerson\u001b[0m\u001b[1;33m(\u001b[0m\u001b[1;33m)\u001b[0m\u001b[1;33m\u001b[0m\u001b[0m\n\u001b[0;32m      7\u001b[0m \u001b[0mprint\u001b[0m\u001b[1;33m(\u001b[0m\u001b[0me\u001b[0m\u001b[1;33m.\u001b[0m\u001b[0mname\u001b[0m\u001b[1;33m)\u001b[0m\u001b[1;33m\u001b[0m\u001b[0m\n\u001b[1;32m----> 8\u001b[1;33m \u001b[0mprint\u001b[0m\u001b[1;33m(\u001b[0m\u001b[0me\u001b[0m\u001b[1;33m.\u001b[0m\u001b[0m__age\u001b[0m\u001b[1;33m)\u001b[0m\u001b[1;33m\u001b[0m\u001b[0m\n\u001b[0m",
      "\u001b[1;31mAttributeError\u001b[0m: 'Person' object has no attribute '__age'"
     ]
    }
   ],
   "source": [
    "class Person():\n",
    "    #公有变量\n",
    "    name = 'a'\n",
    "    #私有变量\n",
    "    __age = 10\n",
    "e = Person()\n",
    "print(e.name)\n",
    "print(e.__age)\n"
   ]
  },
  {
   "cell_type": "code",
   "execution_count": 130,
   "metadata": {},
   "outputs": [
    {
     "name": "stdout",
     "output_type": "stream",
     "text": [
      "{'__module__': '__main__', 'name': 'a', '_Person__age': 20, '__dict__': <attribute '__dict__' of 'Person' objects>, '__weakref__': <attribute '__weakref__' of 'Person' objects>, '__doc__': None}\n",
      "20\n"
     ]
    }
   ],
   "source": [
    "#name mangling(name decoration)技术\n",
    "print(Person.__dict__)\n",
    "Person._Person__age = 20\n",
    "print(Person._Person__age)"
   ]
  }
 ],
 "metadata": {
  "kernelspec": {
   "display_name": "Python 3",
   "language": "python",
   "name": "python3"
  },
  "language_info": {
   "codemirror_mode": {
    "name": "ipython",
    "version": 3
   },
   "file_extension": ".py",
   "mimetype": "text/x-python",
   "name": "python",
   "nbconvert_exporter": "python",
   "pygments_lexer": "ipython3",
   "version": "3.6.5"
  }
 },
 "nbformat": 4,
 "nbformat_minor": 2
}
