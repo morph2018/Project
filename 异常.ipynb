{
 "cells": [
  {
   "cell_type": "markdown",
   "metadata": {},
   "source": [
    "# 异常的分类\n",
    "    AssertError 断言语句（assert）失败\n",
    "    AttributeError 尝试访问未知的对象属性\n",
    "    EOFError 用户输入文件末尾标志EOF（Ctrl+d）\n",
    "    FloatingPointError 浮点计算错误\n",
    "    GeneratorExit generator.close()方法被调用的时候\n",
    "    ImportError 导入模块失败的时候\n",
    "    IndexError 索引超出序列的范围\n",
    "    KeyError 字典中查找一个不存在的关键字\n",
    "    KeyboardInterrupt 用户输入中断键（Ctrl+c）\n",
    "    MemoryError 内存溢出（可通过删除对象释放内存）\n",
    "    NameError 尝试访问一个不存在的变量\n",
    "    NotImplementedError 尚未实现的方法\n",
    "    OSError 操作系统产生的异常（例如打开一个不存在的文件）\n",
    "    OverflowError 数值运算超出最大限制\n",
    "    ReferenceError 弱引用（weak reference）试图访问一个已经被垃圾回收机制回收了的对象\n",
    "    RuntimeError 一般的运行时错误\n",
    "    StopIteration 迭代器没有更多的值\n",
    "    SyntaxError Python的语法错误\n",
    "    IndentationError 缩进错误\n",
    "    TabError Tab和空格混合使用\n",
    "    SystemError Python编译器系统错误\n",
    "    SystemExit Python编译器进程被关闭\n",
    "    TypeError 不同类型间的无效操作\n",
    "    UnboundLocalError 访问一个未初始化的本地变量（NameError的子类）\n",
    "    UnicodeError Unicode相关的错误（ValueError的子类）\n",
    "    UnicodeEncodeError Unicode编码时的错误（UnicodeError的子类）\n",
    "    UnicodeDecodeError Unicode解码时的错误（UnicodeError的子类）\n",
    "    UnicodeTranslateError Unicode转换时的错误（UnicodeError的子类）\n",
    "    ValueError 传入无效的参数\n",
    "    ZeroDivisionError 除数为零"
   ]
  },
  {
   "cell_type": "code",
   "execution_count": 1,
   "metadata": {},
   "outputs": [
    {
     "name": "stdout",
     "output_type": "stream",
     "text": [
      "Plz input your num:0\n"
     ]
    },
    {
     "ename": "ZeroDivisionError",
     "evalue": "division by zero",
     "output_type": "error",
     "traceback": [
      "\u001b[1;31m---------------------------------------------------------------------------\u001b[0m",
      "\u001b[1;31mZeroDivisionError\u001b[0m                         Traceback (most recent call last)",
      "\u001b[1;32m<ipython-input-1-c1869058bbde>\u001b[0m in \u001b[0;36m<module>\u001b[1;34m()\u001b[0m\n\u001b[0;32m      2\u001b[0m \u001b[1;31m# 常常犯的除零错误\u001b[0m\u001b[1;33m\u001b[0m\u001b[1;33m\u001b[0m\u001b[0m\n\u001b[0;32m      3\u001b[0m \u001b[0mnum\u001b[0m \u001b[1;33m=\u001b[0m \u001b[0mint\u001b[0m\u001b[1;33m(\u001b[0m\u001b[0minput\u001b[0m\u001b[1;33m(\u001b[0m\u001b[1;34m\"Plz input your num:\"\u001b[0m\u001b[1;33m)\u001b[0m\u001b[1;33m)\u001b[0m\u001b[1;33m\u001b[0m\u001b[0m\n\u001b[1;32m----> 4\u001b[1;33m \u001b[0mprint\u001b[0m\u001b[1;33m(\u001b[0m\u001b[1;36m100\u001b[0m\u001b[1;33m/\u001b[0m\u001b[0mnum\u001b[0m\u001b[1;33m)\u001b[0m\u001b[1;33m\u001b[0m\u001b[0m\n\u001b[0m",
      "\u001b[1;31mZeroDivisionError\u001b[0m: division by zero"
     ]
    }
   ],
   "source": [
    "l = [1,2,3,4,5]\n",
    "# 常常犯的除零错误\n",
    "num = int(input(\"Plz input your num:\"))\n",
    "print(100/num)"
   ]
  },
  {
   "cell_type": "code",
   "execution_count": 2,
   "metadata": {},
   "outputs": [
    {
     "name": "stdout",
     "output_type": "stream",
     "text": [
      "Plz input your number:0\n",
      "输入错误，兄弟你不能输入零\n"
     ]
    }
   ],
   "source": [
    "# 简单异常案例\n",
    "try:\n",
    "    num = int(input(\"Plz input your number:\"))\n",
    "    rst = 100/num\n",
    "    print(\"计算结果是： {0}\".format(rst))\n",
    "except:\n",
    "    print(\"输入错误，兄弟你不能输入零\")\n",
    "    # exit是退出程序的意思\n",
    "    exit()\n"
   ]
  },
  {
   "cell_type": "code",
   "execution_count": 2,
   "metadata": {},
   "outputs": [
    {
     "name": "stdout",
     "output_type": "stream",
     "text": [
      "Plz input your number:0\n",
      "你特娘的输入的啥玩意儿\n",
      "division by zero\n",
      "hahahhaahh结束啦\n"
     ]
    }
   ],
   "source": [
    "try:\n",
    "    num = int(input(\"Plz input your number:\"))\n",
    "    rst = 100/num\n",
    "    print(\"计算结果是： {0}\".format(rst))\n",
    "\n",
    "# 如果是多种error的情况\n",
    "# 需要把越具体的错误，越往前放\n",
    "# 在异常类继承关系中，越是子类的异常，越要往前放，\n",
    "# 越是父亲类的异常，越要往后放\n",
    "\n",
    "# 在处理异常的时候，一旦拦截到某一个异常，则不在继续往下查看，直接进行下一个\n",
    "# 代码，即有finally则执行finally语句块，否则就执行下一个大的语句\n",
    "except ZeroDivisionError as e:\n",
    "    print(\"你特娘的输入的啥玩意儿\")\n",
    "    print(e)\n",
    "    # exit是退出程序的意思\n",
    "    exit()\n",
    "except NameError as e:\n",
    "    print(\"名字起错了\")\n",
    "    print(e)\n",
    "\n",
    "except AttributeError as e:\n",
    "    print(\"好像属性有问题\")\n",
    "    print(e)\n",
    "    exit()\n",
    "    \n",
    "# 所有异常都是继承自Exception\n",
    "# 如果写上下面这句话，任何异常都会拦截住\n",
    "# 而且，下面这句话一定是最后一个exception\n",
    "except Exception as e:\n",
    "    print(\"我也不知道就出错了\")\n",
    "    print(e)\n",
    "    \n",
    "except ValueError as e:\n",
    "    print(\"NO>>>>>>>>>>>>>>>>>>\")\n",
    "    \n",
    "    \n",
    "finally:\n",
    "    print(\"hahahhaahh结束啦\")"
   ]
  },
  {
   "cell_type": "code",
   "execution_count": 16,
   "metadata": {},
   "outputs": [
    {
     "name": "stdout",
     "output_type": "stream",
     "text": [
      "我爱王晓静\n",
      "3.1415926\n",
      "ValueError\n",
      "哈哈\n",
      "我肯定会被执行的\n"
     ]
    }
   ],
   "source": [
    "# raise案例-2\n",
    "# 自己定义异常\n",
    "# 需要注意：　自定义异常必须是系统异常的子类\n",
    "class DanaValueError(ValueError):\n",
    "    pass\n",
    "try:\n",
    "    print(\"我爱王晓静\")\n",
    "    print(3.1415926)\n",
    "    # 手动引发一个异常\n",
    "    #　注意语法：　raise　ＥｒｒｏｒＣｌａｓｓＮａｍｅ\n",
    "    #括号里的'哈哈'成为该异常的描述\n",
    "    raise DanaValueError('哈哈')\n",
    "    print(\"还没完呀\")\n",
    "except NameError as e:\n",
    "    print(\"NameError\")\n",
    "except ValueError as e:\n",
    "    print(\"ValueError\")\n",
    "    print(e)\n",
    "except Exception as e:\n",
    "    print(\"有异常\")\n",
    "finally:\n",
    "    print(\"我肯定会被执行的\")\n",
    "\n"
   ]
  },
  {
   "cell_type": "code",
   "execution_count": 2,
   "metadata": {},
   "outputs": [
    {
     "name": "stdout",
     "output_type": "stream",
     "text": [
      "Plz input your number:fgrfgfg\n",
      "Exception\n",
      "invalid literal for int() with base 10: 'fgrfgfg'\n",
      "反正我会被执行\n"
     ]
    }
   ],
   "source": [
    "# else语句案例\n",
    "\n",
    "try:\n",
    "    num = int(input(\"Plz input your number:\"))\n",
    "    rst = 100/num\n",
    "    print(\"计算结果是： {0}\".format(rst))\n",
    "except Exception as e:\n",
    "    print(\"Exception\")\n",
    "    print(e)\n",
    "#没有异常则执行else语句    \n",
    "else:\n",
    "    print(\"No Exception\")\n",
    "finally:\n",
    "    print(\"反正我会被执行\")"
   ]
  },
  {
   "cell_type": "code",
   "execution_count": null,
   "metadata": {},
   "outputs": [],
   "source": []
  }
 ],
 "metadata": {
  "kernelspec": {
   "display_name": "Python 3",
   "language": "python",
   "name": "python3"
  },
  "language_info": {
   "codemirror_mode": {
    "name": "ipython",
    "version": 3
   },
   "file_extension": ".py",
   "mimetype": "text/x-python",
   "name": "python",
   "nbconvert_exporter": "python",
   "pygments_lexer": "ipython3",
   "version": "3.6.5"
  }
 },
 "nbformat": 4,
 "nbformat_minor": 2
}
